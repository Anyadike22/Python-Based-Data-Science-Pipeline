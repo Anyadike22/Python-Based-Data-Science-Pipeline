{
 "cells": [
  {
   "cell_type": "code",
   "execution_count": 6,
   "id": "252823f0",
   "metadata": {},
   "outputs": [],
   "source": [
    "input_data = pd.read_csv('house_data.csv')\n",
    "\n",
    "import pandas as pd\n",
    "from sklearn.compose import ColumnTransformer\n",
    "from sklearn.impute import SimpleImputer\n",
    "from sklearn.preprocessing import StandardScaler, OneHotEncoder\n",
    "from sklearn.pipeline import Pipeline\n",
    "\n",
    "def preprocess_data(input_data):\n",
    "    # Separate numerical and categorical columns\n",
    "    numerical_cols = input_data.select_dtypes(include=['float64', 'int64']).columns\n",
    "    categorical_cols = input_data.select_dtypes(include=['object']).columns\n",
    "\n",
    "    # Pipeline for numerical features\n",
    "    numerical_transformer = Pipeline(steps=[\n",
    "        ('imputer', SimpleImputer(strategy='mean')),  # Impute missing values with mean\n",
    "        ('scaler', StandardScaler())  # Standardize numerical features\n",
    "    ])\n",
    "\n",
    "    # Pipeline for categorical features\n",
    "    categorical_transformer = Pipeline(steps=[\n",
    "        ('imputer', SimpleImputer(strategy='most_frequent')),  # Impute missing values with most frequent value\n",
    "        ('onehot', OneHotEncoder(handle_unknown='ignore'))  # One-hot encode categorical variables\n",
    "    ])\n",
    "\n",
    "    # Bundle transformers for numerical and categorical features\n",
    "    preprocessor = ColumnTransformer(\n",
    "        transformers=[\n",
    "            ('num', numerical_transformer, numerical_cols),\n",
    "            ('cat', categorical_transformer, categorical_cols)\n",
    "        ])\n",
    "\n",
    "    # Apply the preprocessing pipeline to the input data\n",
    "    processed_data = pd.DataFrame(preprocessor.fit_transform(input_data))\n",
    "\n",
    "    return processed_data\n",
    "\n",
    "# Example usage:\n",
    "# Assuming 'input_data' is your original DataFrame\n",
    "processed_data = preprocess_data(input_data)\n"
   ]
  }
 ],
 "metadata": {
  "kernelspec": {
   "display_name": "Python 3 (ipykernel)",
   "language": "python",
   "name": "python3"
  },
  "language_info": {
   "codemirror_mode": {
    "name": "ipython",
    "version": 3
   },
   "file_extension": ".py",
   "mimetype": "text/x-python",
   "name": "python",
   "nbconvert_exporter": "python",
   "pygments_lexer": "ipython3",
   "version": "3.11.5"
  }
 },
 "nbformat": 4,
 "nbformat_minor": 5
}
